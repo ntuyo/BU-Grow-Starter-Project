{
 "cells": [
  {
   "cell_type": "code",
   "execution_count": 90,
   "metadata": {},
   "outputs": [],
   "source": [
    "import os\n",
    "import numpy as np # linear algebra\n",
    "import pandas as pd # data processing, CSV file I/O (e.g. pd.read_csv)\n",
    "from sklearn.model_selection import train_test_split # function for splitting data to train and test sets\n",
    "\n",
    "import nltk\n",
    "from nltk.corpus import stopwords\n",
    "from nltk.classify import SklearnClassifier\n",
    "from nltk.tokenize import TweetTokenizer\n",
    "import matplotlib.pyplot as plt\n",
    "'exec(%matplotlib inline)'\n",
    "from subprocess import check_output"
   ]
  },
  {
   "cell_type": "code",
   "execution_count": 91,
   "metadata": {},
   "outputs": [],
   "source": [
    "data = pd.read_csv(os.getcwd()+\"/input/Sentiment_GOP.csv\", encoding = \"ISO-8859-1\")\n",
    "data = data[['text','sentiment']]\n",
    "\n",
    "# Splitting the dataset into train and test set\n",
    "train, test = train_test_split(data,test_size = 0.1)\n",
    "# Removing neutral sentiments\n",
    "train = train[train.sentiment != \"Neutral\"]\n",
    "test = test[test.sentiment != \"Neutral\"]\n",
    "\n",
    "train_pos = train[ train['sentiment'] == 'Positive']\n",
    "train_pos = train_pos['text']\n",
    "train_neg = train[ train['sentiment'] == 'Negative']\n",
    "train_neg = train_neg['text']"
   ]
  },
  {
   "cell_type": "code",
   "execution_count": 92,
   "metadata": {},
   "outputs": [],
   "source": [
    "tweets = []\n",
    "stopwords_set = set(stopwords.words(\"english\")) #stopwords are words like is, are, that\n",
    "tknzr = TweetTokenizer()\n",
    "\n",
    "for index, row in train.iterrows():\n",
    "    words_filtered = [e.lower() for e in tknzr.tokenize(row.text) if len(e) >= 3] #gets rid of words that are shorter than 3\n",
    "    words_cleaned = [word for word in words_filtered\n",
    "        if 'http' not in word\n",
    "        and not word.startswith('@')\n",
    "        and not word.startswith('#')\n",
    "        and word != 'RT']   #gets rid of words with http, @, #, or RT\n",
    "    words_without_stopwords = [word for word in words_cleaned if not word in stopwords_set]  #gets rid of stopwords\n",
    "    tweets.append((words_without_stopwords, row.sentiment))\n",
    "    \n",
    "\n",
    "test_pos = test[ test['sentiment'] == 'Positive']\n",
    "test_pos = test_pos['text']\n",
    "test_neg = test[ test['sentiment'] == 'Negative']\n",
    "test_neg = test_neg['text']\n",
    "test_set = test['text']\n",
    "test_ans = test['sentiment']"
   ]
  },
  {
   "cell_type": "code",
   "execution_count": 93,
   "metadata": {},
   "outputs": [],
   "source": [
    "# Extracting word features\n",
    "\n",
    "#returns list of all words\n",
    "def get_words_in_tweets(tweets):\n",
    "    all = []\n",
    "    for (words, sentiment) in tweets:\n",
    "        all.extend(words)\n",
    "    return all \n",
    "\n",
    "#\n",
    "def get_word_features(wordlist):\n",
    "    wordlist = nltk.FreqDist(wordlist)   \n",
    "    #FreqDist is a class that is like dictionary with word as key and # of times it appears as value\n",
    "\n",
    "    features = wordlist.keys()\n",
    "    return features\n",
    "\n",
    "w_features = get_word_features(get_words_in_tweets(tweets)) #All unique words in all tweets\n",
    "\n",
    "def extract_features(document):\n",
    "    document_words = set(document)  #document was list of words, now list of unique words\n",
    "    features = {}\n",
    "    for word in w_features:\n",
    "        features['contains(%s)' % word] = (word in document_words) #adds word from all unique words into features if that word is in document\n",
    "    return features\n"
   ]
  },
  {
   "cell_type": "code",
   "execution_count": 94,
   "metadata": {},
   "outputs": [],
   "source": [
    "# Training the Naive Bayes classifier\n",
    "training_set = nltk.classify.apply_features(extract_features,tweets)\n",
    "classifier = nltk.NaiveBayesClassifier.train(training_set)"
   ]
  },
  {
   "cell_type": "code",
   "execution_count": 95,
   "metadata": {},
   "outputs": [],
   "source": [
    "def accuracyScore(correct, total):\n",
    "    return correct/total      #How likely that u answer right\n",
    "\n",
    "def sensitivityScore(truePos, totalPos):\n",
    "    return truePos/totalPos    #How likely detect positive when is positive\n",
    "    \n",
    "def specificityScore(trueNeg, totalNeg):\n",
    "    return trueNeg/totalNeg   #How likely detect negative when is negative\n",
    "    \n",
    "def precisionScore(truePos, guessedPos):\n",
    "    return truePos/guessedPos #How likely is positive when detect positive\n",
    "\n",
    "def f1Score(sensitivity, precision):\n",
    "    return 2*sensitivity*precision/(sensitivity+precision)  \n",
    "    #weighted avg of recall and precision, useful if harm of falsePos and falseNeg differs\n"
   ]
  },
  {
   "cell_type": "code",
   "execution_count": 16,
   "metadata": {},
   "outputs": [],
   "source": [
    "trueNeg = 0\n",
    "truePos = 0\n",
    "falseNeg = 0\n",
    "falsePos = 0\n",
    "\n",
    "#Detecting Negatives\n",
    "wrongNeg = []\n",
    "count = 0\n",
    "for obj in test_neg: \n",
    "    processedObj = extract_features(tknzr.tokenize(obj))\n",
    "    res =  classifier.classify(processedObj)\n",
    "    if(res == 'Negative'): \n",
    "        trueNeg+=1\n",
    "    else:\n",
    "        falsePos+=1\n",
    "        if(count<20):\n",
    "            count+=1\n",
    "            wrongNeg.append(processedObj)\n",
    "        \n",
    "#Detecting Positives\n",
    "wrongPos = []\n",
    "count = 0\n",
    "for obj in test_pos:\n",
    "    processedObj = extract_features(tknzr.tokenize(obj))\n",
    "    res =  classifier.classify(processedObj)\n",
    "    if(res == 'Positive'): \n",
    "        truePos+=1\n",
    "    else:\n",
    "        falseNeg+=1\n",
    "        if(count<20):\n",
    "            count+=1\n",
    "            wrongPos.append(processedObj)"
   ]
  },
  {
   "cell_type": "code",
   "execution_count": 97,
   "metadata": {},
   "outputs": [],
   "source": [
    "trueNeg = 0\n",
    "truePos = 0\n",
    "falseNeg = 0\n",
    "falsePos = 0\n",
    "\n",
    "wrongNeg = []\n",
    "wrongPos = []\n",
    "for obj, ans in zip(test_set, test_ans): \n",
    "    res =  classifier.classify(extract_features(tknzr.tokenize(obj)))\n",
    "    if(ans == 'Negative'):\n",
    "        if(res == 'Negative'): \n",
    "            trueNeg+=1\n",
    "        else:\n",
    "            falsePos+=1\n",
    "            if(len(wrongNeg)<10):\n",
    "                wrongNeg.append([obj, ans])        \n",
    "    else:\n",
    "        if(res == 'Positive'): \n",
    "            truePos+=1\n",
    "        else:\n",
    "            falseNeg+=1\n",
    "            if(len(wrongPos)<10):\n",
    "                wrongPos.append([obj, ans])\n"
   ]
  },
  {
   "cell_type": "code",
   "execution_count": 98,
   "metadata": {},
   "outputs": [
    {
     "name": "stdout",
     "output_type": "stream",
     "text": [
      "139 89\n",
      "36 807\n",
      "0.8832866479925303\n",
      "0.6096491228070176\n",
      "0.9572953736654805\n",
      "0.7942857142857143\n",
      "0.6898263027295285\n"
     ]
    }
   ],
   "source": [
    "print(str(truePos)+\" \"+ str(falseNeg))       \n",
    "print(str(falsePos)+ \" \"+ str(trueNeg))  \n",
    "\n",
    "accuracy = accuracyScore(truePos+trueNeg, truePos+trueNeg+falsePos+falseNeg)\n",
    "sensitivity = sensitivityScore(truePos,truePos+falseNeg)\n",
    "specificity = specificityScore(trueNeg, trueNeg+falsePos)\n",
    "precision = precisionScore(truePos, truePos+falsePos)\n",
    "f1 = f1Score(sensitivity, precision)\n",
    "\n",
    "print(accuracy)\n",
    "print(sensitivity)\n",
    "print(specificity)\n",
    "print(precision)\n",
    "print(f1)"
   ]
  },
  {
   "cell_type": "code",
   "execution_count": 99,
   "metadata": {},
   "outputs": [
    {
     "name": "stdout",
     "output_type": "stream",
     "text": [
      "RT @larryelder: Trump should have said, \"Megyn, ask these nine candidates, if they plan to support ME when I win the nomination.\"\n",
      "#GOPDebatÛ_\n",
      "\n",
      "\n",
      "RT @RWSurferGirl: Ask Trump a legitimate question. Look at Wallace's face when Trump nails it. _Ùà¼_Ùàü #GOPDebate  #GOPDebates\n",
      "\n",
      "\n",
      "RT @larryelder: Trump should have said, \"Megyn, ask these nine candidates, if they plan to support ME when I win the nomination.\"\n",
      "#GOPDebatÛ_\n",
      "\n",
      "\n",
      "Me reading my family's comments about how great the #GOPDebate was http://t.co/gIaGjPygXZ\n",
      "\n",
      "\n",
      "RT @RWSurferGirl: Ask Trump a legitimate question. Look at Wallace's face when Trump nails it. _Ùà¼_Ùàü #GOPDebate  #GOPDebates\n",
      "\n",
      "\n",
      "RT @RWSurferGirl: I think Cruz and Trump need to band together and expose this set up job, and get rid of Bush and Rubio, _Ùà¼_Ùàü #GOPDebate  #GÛ_\n",
      "\n",
      "\n",
      "What I'm reading says Donald Trump was front runner &amp; star of #GOPDebate! Like how is this possible? Wasn't he boo'ed? #WasntAbletoWatch\n",
      "\n",
      "\n",
      "RT @RWSurferGirl: You would never know @realDonaldTrump  is the frontrunner from watching this debate. _Ùà¼_Ùàü #GOPDebate  #GOPDebates\n",
      "\n",
      "\n",
      "#GOPDebate @chriswallace @megynkelly @BretBaier I was really looking forward to a real debate of the candidates not an attack on Trump\n",
      "\n",
      "\n",
      "RT @larryelder: Trump should have said, \"Megyn, ask these nine candidates, if they plan to support ME when I win the nomination.\"\n",
      "#GOPDebatÛ_\n",
      "\n",
      "\n"
     ]
    }
   ],
   "source": [
    "for obj in wrongNeg:\n",
    "    print(obj)\n",
    "    print(\"\\n\")\n"
   ]
  },
  {
   "cell_type": "code",
   "execution_count": 100,
   "metadata": {},
   "outputs": [
    {
     "name": "stdout",
     "output_type": "stream",
     "text": [
      "RT @ElizabethND04: Wow. Awesome Dr. Carson race answer! @RealBenCarson #GOPDebate #FOXNEWSDEBATE #FoxNews #FoxDebate @FoxNews #FNC  https:/Û_\n",
      "\n",
      "\n",
      "@realDonaldTrump lives to fight another day. Odds seem to ever be in his favor. #GOPDebate #hungergames #DonaldTrump http://t.co/eG6X6onkKT\n",
      "\n",
      "\n",
      "@notaxation Thank you for your thoughts on the #GOPDebate. How long would you think some of the round 1 candidates will hang around?\n",
      "\n",
      "\n",
      "@MikeHuckabeeGOP says he wants 2 legalize prostitution &amp; drugs &amp; tax the hell out of them? That's what I've been saying for yrs. #GOPDebate\n",
      "\n",
      "\n",
      "I like senator #GOPDebate #Carson2016\n",
      "\n",
      "\n",
      "'It wasn't too late for Wisconsin, it's not too late for America. Oh, and pass the cheese'. Scott Walker. #GOPDebates\n",
      "\n",
      "\n",
      "Sen. Marco #Rubio (R-#Florida) is #GOPDebate winner according to @morningmoneyben: http://t.co/YjQ4hEDs4P\n",
      "\n",
      "\n",
      "After watching the #GOPdebates I've made my decision! I'm voting for @megynkelly OMG! Where has she been all my life ? She is so HOT\n",
      "\n",
      "\n",
      "RT @ericstonestreet: Trump has Cam hands. #GOPDebates\n",
      "\n",
      "\n",
      "@joshtpm #GOPDebate Mission Statement: Tell more people that U love them U never know how much they might need it -C Brogan\n",
      "\n",
      "\n"
     ]
    }
   ],
   "source": [
    "for obj in wrongPos:\n",
    "    print(obj)\n",
    "    print(\"\\n\")"
   ]
  },
  {
   "cell_type": "code",
   "execution_count": null,
   "metadata": {},
   "outputs": [],
   "source": []
  },
  {
   "cell_type": "code",
   "execution_count": null,
   "metadata": {},
   "outputs": [],
   "source": []
  },
  {
   "cell_type": "code",
   "execution_count": null,
   "metadata": {},
   "outputs": [],
   "source": []
  },
  {
   "cell_type": "code",
   "execution_count": null,
   "metadata": {},
   "outputs": [],
   "source": []
  }
 ],
 "metadata": {
  "kernelspec": {
   "display_name": "Python 3",
   "language": "python",
   "name": "python3"
  },
  "language_info": {
   "codemirror_mode": {
    "name": "ipython",
    "version": 3
   },
   "file_extension": ".py",
   "mimetype": "text/x-python",
   "name": "python",
   "nbconvert_exporter": "python",
   "pygments_lexer": "ipython3",
   "version": "3.7.3"
  }
 },
 "nbformat": 4,
 "nbformat_minor": 2
}
