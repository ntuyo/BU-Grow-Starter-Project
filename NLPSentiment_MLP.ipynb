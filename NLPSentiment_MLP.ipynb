{
 "cells": [
  {
   "cell_type": "code",
   "execution_count": 1,
   "metadata": {},
   "outputs": [],
   "source": [
    "import os\n",
    "import numpy as np \n",
    "import pandas as pd "
   ]
  },
  {
   "cell_type": "code",
   "execution_count": 2,
   "metadata": {},
   "outputs": [],
   "source": [
    "data = pd.read_csv(os.getcwd()+\"/input/Sentiment_GOP.csv\", encoding = \"ISO-8859-1\")\n",
    "data = data[['text','sentiment']]\n",
    "data = data[data.sentiment!=\"Neutral\"]\n",
    "\n",
    "X_data = data['text']\n",
    "Y_data = data['sentiment']"
   ]
  },
  {
   "cell_type": "code",
   "execution_count": 30,
   "metadata": {},
   "outputs": [],
   "source": [
    "from nltk.stem.snowball import SnowballStemmer\n",
    "from nltk.tokenize import TweetTokenizer\n",
    "from nltk.corpus import stopwords\n",
    "\n",
    "X_clean = []\n",
    "stopwords_set = set(stopwords.words(\"english\")) \n",
    "tknzr = TweetTokenizer()\n",
    "stemmer = SnowballStemmer(\"english\")\n",
    "\n",
    "for txt in X_data:\n",
    "    words = [word.lower() for word in tknzr.tokenize(txt)\n",
    "            ] \n",
    "    words_cleaned = [word for word in words\n",
    "        if 'http' not in word\n",
    "        and not word.startswith('@')\n",
    "        and not word.startswith('#')\n",
    "        and word != 'rt']  \n",
    "    words_wo_stop = [word for word in words_cleaned if not word in stopwords_set]  \n",
    "#     tags = []\n",
    "#     for word in words_wo_stop:\n",
    "#         tags.extend(nltk.pos_tag([word]))\n",
    "#     tags_root = [(stemmer.stem(tag[0]), tag[1]) for tag in tags]\n",
    "#     words_root = [stemmer.stem(word) for word in words]\n",
    "    txt_clean = \"\"\n",
    "    for word in words_wo_stop:\n",
    "        txt_clean += (word + \" \")\n",
    "    X_clean.append(txt_clean)"
   ]
  },
  {
   "cell_type": "code",
   "execution_count": 34,
   "metadata": {},
   "outputs": [
    {
     "name": "stdout",
     "output_type": "stream",
     "text": [
      "Score: 0.8084808946877913\n"
     ]
    }
   ],
   "source": [
    "from sklearn.feature_extraction.text import CountVectorizer\n",
    "from sklearn.neural_network import MLPClassifier\n",
    "from sklearn.model_selection import train_test_split\n",
    " \n",
    "# Shuffle the data and then split it, keeping 20% aside for testing\n",
    "X_train, X_test, y_train, y_test = train_test_split(X_clean, Y_data, test_size=0.2)\n",
    " \n",
    "vectorizer = CountVectorizer(lowercase=True)\n",
    "vectorizer.fit(X_train)\n",
    " \n",
    "classifier = MLPClassifier(hidden_layer_sizes=(100,))\n",
    "classifier.fit(vectorizer.transform(X_train), y_train)\n",
    " \n",
    "print(\"Score:\", classifier.score(vectorizer.transform(X_test), y_test))  # Score: 0.8816\n",
    " \n"
   ]
  },
  {
   "cell_type": "code",
   "execution_count": 17,
   "metadata": {},
   "outputs": [
    {
     "name": "stdout",
     "output_type": "stream",
     "text": [
      "Score: 0.9436160298229264\n"
     ]
    }
   ],
   "source": []
  },
  {
   "cell_type": "code",
   "execution_count": 29,
   "metadata": {},
   "outputs": [
    {
     "name": "stdout",
     "output_type": "stream",
     "text": [
      "Score: 0.9478098788443616\n"
     ]
    }
   ],
   "source": [
    "X_train, X_test, y_train, y_test = train_test_split(X_clean, Y_data, test_size=0.2)\n",
    "print(\"Score:\", classifier.score(vectorizer.transform(X_test), y_test))  "
   ]
  },
  {
   "cell_type": "code",
   "execution_count": null,
   "metadata": {},
   "outputs": [],
   "source": [
    "accuracy = accuracyScore(tp+tn, tp+tn+fp+fn)\n",
    "sensitivity = sensitivityScore(tp,tp+fn)\n",
    "specificity = specificityScore(tn, tn+fp)\n",
    "precision = precisionScore(tp, tp+fp)\n",
    "f1 = f1Score(sensitivity, precision)\n",
    "\n",
    "print(accuracy)\n",
    "print(sensitivity)\n",
    "print(specificity)\n",
    "print(precision)\n",
    "print(f1)"
   ]
  }
 ],
 "metadata": {
  "kernelspec": {
   "display_name": "Python 3",
   "language": "python",
   "name": "python3"
  },
  "language_info": {
   "codemirror_mode": {
    "name": "ipython",
    "version": 3
   },
   "file_extension": ".py",
   "mimetype": "text/x-python",
   "name": "python",
   "nbconvert_exporter": "python",
   "pygments_lexer": "ipython3",
   "version": "3.7.3"
  }
 },
 "nbformat": 4,
 "nbformat_minor": 2
}
