{
 "cells": [
  {
   "cell_type": "code",
   "execution_count": 1,
   "metadata": {},
   "outputs": [],
   "source": [
    "import mysql.connector as mc"
   ]
  },
  {
   "cell_type": "code",
   "execution_count": 2,
   "metadata": {},
   "outputs": [],
   "source": [
    "cnx = mc.connect(user=\"ghtorrent_user\", password = \"ossd1-ght0rrent\", host = \"54.234.112.171\", database = \"ghtorrent\", port = 33306)\n",
    "cursor = cnx.cursor(buffered=True)"
   ]
  },
  {
   "cell_type": "code",
   "execution_count": 3,
   "metadata": {
    "scrolled": false
   },
   "outputs": [
    {
     "name": "stdout",
     "output_type": "stream",
     "text": [
      "(42374, 451062, 920240, 6, \"You'll need to add a check for whether the use cancelled the event.\\n\\nSo perhaps change these lines to:\\n\\n```js\\nvar e // put this up the top with the other variables for consistency\\n\\nthis.$element.trigger(e = $.Event('show')\\nif (e.isDefaultPrevented()) retu\", 4112055, datetime.datetime(2012, 6, 4, 3, 49, 54), None)\n",
      "(42374, 451062, 920243, 16, \"Since we don't need to use this event again (such as checking `isDefaultPrevented()`), there's no need to create a a `jQuery.Event` for it.\\n\\nYou could simply write:\\n\\n```js\\nthis.$element.trigger('shown')\\n```\\n\\nSame applies for hidden.\", 4112055, datetime.datetime(2012, 6, 4, 3, 51, 38), None)\n",
      "(42374, 443348, 920246, 16, 'Uhm... I\\'m rather confused now :) do I need to check\\n\"isDefaultPrevented()\" or not?\\n\\nIn case... Can\\'t you just fix it by yourself? The patch is damn small,\\nas it adds only 4 lines per each function (8 lines in total), and you\\nknow the code and the APIs be', 4112055, datetime.datetime(2012, 6, 4, 3, 54, 41), None)\n",
      "(42374, 451062, 920252, 16, 'The check for `isDefaultPrevented()` allows the user to call `e.preventDefault()` in their event handler. For the `show` and `hide` events, if the user calls `e.preventDefault()`, it means they want to stop the `show` or `hide` function before it happens.', 4112055, datetime.datetime(2012, 6, 4, 4, 7, 35), None)\n",
      "(42374, 443348, 920254, 16, \"Ok I'm very busy, but will take some time to do that tomorrow :)\\r\\nThanks for the advices!\\r\\n\\r\\n\\r\\n\\r\\nIl giorno 04/giu/2012, alle ore 01:07, Richard Pickett\\r\\n<reply@reply.github.com>\\r\\nha scritto:\\r\\n\\r\\n>> @@ -145,6 +148,9 @@\\r\\n>>           .css(tp)\\r\\n>>           .\", 4112055, datetime.datetime(2012, 6, 4, 4, 9, 47), None)\n",
      "(47193, 451062, 1359044, 4, \"Why aren't you using `this.options.tooltipPosition`? You should also add a default value to the defaults array.\", 4214196, datetime.datetime(2012, 8, 13, 1, 57, 37), None)\n"
     ]
    }
   ],
   "source": [
    "#printing\n",
    "\n",
    "cursor.execute(\"SELECT * FROM pull_request_comments\")\n",
    "count = 0\n",
    "for row in cursor.fetchall():\n",
    "    print(row)\n",
    "    count +=1\n",
    "    if count>5: break"
   ]
  },
  {
   "cell_type": "code",
   "execution_count": 4,
   "metadata": {},
   "outputs": [
    {
     "data": {
      "text/plain": [
       "tuple"
      ]
     },
     "execution_count": 4,
     "metadata": {},
     "output_type": "execute_result"
    }
   ],
   "source": [
    "type(row)"
   ]
  },
  {
   "cell_type": "code",
   "execution_count": 5,
   "metadata": {},
   "outputs": [
    {
     "ename": "PermissionError",
     "evalue": "[Errno 13] Permission denied: 'C:\\\\Users\\\\cathl\\\\OneDrive\\\\Documents\\\\GitHub\\\\BU-Grow-Starter-Project\\\\test.csv'",
     "output_type": "error",
     "traceback": [
      "\u001b[1;31m---------------------------------------------------------------------------\u001b[0m",
      "\u001b[1;31mPermissionError\u001b[0m                           Traceback (most recent call last)",
      "\u001b[1;32m<ipython-input-5-d2eaf1e3b453>\u001b[0m in \u001b[0;36m<module>\u001b[1;34m\u001b[0m\n\u001b[0;32m      7\u001b[0m \u001b[1;33m\u001b[0m\u001b[0m\n\u001b[0;32m      8\u001b[0m \u001b[0mrows\u001b[0m \u001b[1;33m=\u001b[0m \u001b[0mcursor\u001b[0m\u001b[1;33m.\u001b[0m\u001b[0mfetchall\u001b[0m\u001b[1;33m(\u001b[0m\u001b[1;33m)\u001b[0m\u001b[1;33m\u001b[0m\u001b[1;33m\u001b[0m\u001b[0m\n\u001b[1;32m----> 9\u001b[1;33m \u001b[1;32mwith\u001b[0m \u001b[0mopen\u001b[0m\u001b[1;33m(\u001b[0m\u001b[1;34mr'C:\\Users\\cathl\\OneDrive\\Documents\\GitHub\\BU-Grow-Starter-Project\\test.csv'\u001b[0m\u001b[1;33m,\u001b[0m \u001b[1;34m'w'\u001b[0m\u001b[1;33m,\u001b[0m \u001b[0mencoding\u001b[0m\u001b[1;33m=\u001b[0m\u001b[1;34m'utf-8'\u001b[0m\u001b[1;33m)\u001b[0m \u001b[1;32mas\u001b[0m \u001b[0mfp\u001b[0m\u001b[1;33m:\u001b[0m\u001b[1;33m\u001b[0m\u001b[1;33m\u001b[0m\u001b[0m\n\u001b[0m\u001b[0;32m     10\u001b[0m     \u001b[0mmyFile\u001b[0m \u001b[1;33m=\u001b[0m \u001b[0mcsv\u001b[0m\u001b[1;33m.\u001b[0m\u001b[0mwriter\u001b[0m\u001b[1;33m(\u001b[0m\u001b[0mfp\u001b[0m\u001b[1;33m)\u001b[0m\u001b[1;33m\u001b[0m\u001b[1;33m\u001b[0m\u001b[0m\n\u001b[0;32m     11\u001b[0m     \u001b[0mmyFile\u001b[0m\u001b[1;33m.\u001b[0m\u001b[0mwriterows\u001b[0m\u001b[1;33m(\u001b[0m\u001b[0mrows\u001b[0m\u001b[1;33m)\u001b[0m\u001b[1;33m\u001b[0m\u001b[1;33m\u001b[0m\u001b[0m\n",
      "\u001b[1;31mPermissionError\u001b[0m: [Errno 13] Permission denied: 'C:\\\\Users\\\\cathl\\\\OneDrive\\\\Documents\\\\GitHub\\\\BU-Grow-Starter-Project\\\\test.csv'"
     ]
    }
   ],
   "source": [
    "#putting into csv\n",
    "\n",
    "\n",
    "import csv\n",
    "\n",
    "cursor.execute(\"SELECT * FROM pull_request_comments\")\n",
    "\n",
    "rows = cursor.fetchall()\n",
    "with open(r'C:\\Users\\cathl\\OneDrive\\Documents\\GitHub\\BU-Grow-Starter-Project\\test.csv', 'w', encoding='utf-8') as fp:\n",
    "    myFile = csv.writer(fp)\n",
    "    myFile.writerows(rows)\n"
   ]
  },
  {
   "cell_type": "code",
   "execution_count": 6,
   "metadata": {},
   "outputs": [],
   "source": [
    "import pandas as pd\n",
    "\n",
    "df = pd.read_sql('SELECT * FROM pull_request_comments', con=cnx)\n"
   ]
  },
  {
   "cell_type": "code",
   "execution_count": 7,
   "metadata": {},
   "outputs": [
    {
     "name": "stdout",
     "output_type": "stream",
     "text": [
      "       pull_request_id   user_id  comment_id  position  \\\n",
      "0                42374    451062      920240         6   \n",
      "1                42374    451062      920243        16   \n",
      "2                42374    443348      920246        16   \n",
      "3                42374    451062      920252        16   \n",
      "4                42374    443348      920254        16   \n",
      "5                47193    451062     1359044         4   \n",
      "6                55770      5105     1128906        68   \n",
      "7                55770      5105     1128908        52   \n",
      "8                55770      5105     1128910         4   \n",
      "9                55770      5105     1128914        35   \n",
      "10               55770     48477     1545791        35   \n",
      "11               65828     72921     1296880         4   \n",
      "12               65828     72921     1296891         4   \n",
      "13               69278    451062     1369931         4   \n",
      "14               98768    451062     1408288         5   \n",
      "15               98768    451062     1408298        23   \n",
      "16               98768    451062     1408300        28   \n",
      "17               98768    451062     1408317        20   \n",
      "18               98768     43111     1426888        23   \n",
      "19               98768     43111     1426901        28   \n",
      "20               98768     43111     1427315        28   \n",
      "21               98768    161924     2288945        17   \n",
      "22               98768     43111     2342848        17   \n",
      "23               99223    451062     1408324         9   \n",
      "24               99223      7144     1408326         9   \n",
      "25              167205      5101     1019796        28   \n",
      "26              167348      5101     1019754         5   \n",
      "27              167348      5572     1019915         5   \n",
      "28              180431      5101     1212191        13   \n",
      "29              180431      5101     1212192         4   \n",
      "...                ...       ...         ...       ...   \n",
      "22119         42883096     32869   204603061       243   \n",
      "22120         42883096     32869   204603870        62   \n",
      "22121         42883096     32869   204604623       156   \n",
      "22122         43026626     30452   205342225         6   \n",
      "22123         43026626     32869   205345707         6   \n",
      "22124         43059813     32869   205598501        78   \n",
      "22125         43059813     32869   205599133        95   \n",
      "22126         43059813     32869   205598211        66   \n",
      "22127         43059813     32869   205597296        51   \n",
      "22128         43059813     32869   205590927        37   \n",
      "22129         43059813     32869   205599572        98   \n",
      "22130         43059813     32869   205598726        95   \n",
      "22131         43059813     32869   205583649        72   \n",
      "22132         43059813     32869   205598674        90   \n",
      "22133         43059813     32869   205598747       102   \n",
      "22134         43059813     32869   205590785        72   \n",
      "22135         43059813     32869   205583846        90   \n",
      "22136         43059813     32869   205573337         8   \n",
      "22137         43059813     32869   205583445        70   \n",
      "22138         43059813     32869   205598967       103   \n",
      "22139         43059813  32995077   205605564        98   \n",
      "22140         43059813     32869   205610910        98   \n",
      "22141         43059813  32995077   205612628        70   \n",
      "22142         43059813  32995077   205619564        98   \n",
      "22143         43059813     32869   205638426        70   \n",
      "22144         43079076     32869   205657441        81   \n",
      "22145         43079076     32869   205657086         5   \n",
      "22146         43079076     32869   205657156         7   \n",
      "22147         43079076     32869   205657308        59   \n",
      "22148         47231594     32869   223540307         4   \n",
      "\n",
      "                                                    body   commit_id  \\\n",
      "0      You'll need to add a check for whether the use...     4112055   \n",
      "1      Since we don't need to use this event again (s...     4112055   \n",
      "2      Uhm... I'm rather confused now :) do I need to...     4112055   \n",
      "3      The check for `isDefaultPrevented()` allows th...     4112055   \n",
      "4      Ok I'm very busy, but will take some time to d...     4112055   \n",
      "5      Why aren't you using `this.options.tooltipPosi...     4214196   \n",
      "6      Fix indenting here (2 spaces, not 4). Add comm...     4365994   \n",
      "7      `rgba(0,0,0,.1)`—no extra spaces, no extra 0 b...     4365994   \n",
      "8      Break selectors to two lines.\\n\\nAlso, add spa...     4365994   \n",
      "9               No go in IE7—need an alternate approach.     4365994   \n",
      "10     What's exactly the no go ? The whole block of ...     4365994   \n",
      "11                 Perhaps kill out this `console.log()`      542639   \n",
      "12                 Perhaps kill out this `console.log()`      542639   \n",
      "13     ```js\\nthis.options.cache || this.$element.fin...     4540761   \n",
      "14     The `!!` is unnecessary here because `this.opt...     5111943   \n",
      "15     You've mixed single and double quotes all the ...     5111943   \n",
      "16     Why not use the existing `.active` utility cla...     5111943   \n",
      "17     You can shorten this to `pills += '<span/>'` a...     5111943   \n",
      "18     Sure. The code was written before the famous s...     5111943   \n",
      "19             I'll look into it. See how it works out.      5111943   \n",
      "20     This isn't a good idea. When using the active ...     5111943   \n",
      "21     I would add a class for the individual pills (...    20960048   \n",
      "22     In my opinion, it's a hassle to match tags man...    20960048   \n",
      "23     You could rewrite this as `this.$element.paren...     5119328   \n",
      "24                                      good idea, fixed     5119328   \n",
      "25     dont' want to do this - we would want to conti...     6188809   \n",
      "26     could you change this to `this.$element.off()....     6191486   \n",
      "27                                           sure, done.     6191486   \n",
      "28               can you remove the spaces here? thanks!     6356747   \n",
      "29                                  this isn't necessary     6356747   \n",
      "...                                                  ...         ...   \n",
      "22119  `λ` is a somewhat idiomatic to call this helpe...  1079208611   \n",
      "22120  I'm not completely sure about what exactly nee...  1079208611   \n",
      "22121  Extension methods like this one (e.g. `sym.own...  1079208611   \n",
      "22122  (complete side-note: this is also available as...  1081791174   \n",
      "22123  Very nice!! I'm going to use this right away. ...  1081791174   \n",
      "22124            I believe you'll need `str(\"()\")` here.  1082413264   \n",
      "22125  It looks like `pprintSym` would be a better name.  1082413264   \n",
      "22126  On a second thought, there seems to be a simpl...  1082413264   \n",
      "22127  Looks like this is what you need: https://gith...  1082413264   \n",
      "22128  Looks like we don't need this logic at all. Se...  1082413264   \n",
      "22129  How about `typePrinter.pprint(s.TypeRef(s.NoTy...  1082413264   \n",
      "22130           Why does this method need to take `env`?  1082413264   \n",
      "22131                                   `positionToTree`  1082413264   \n",
      "22132            See related comment to the output test.  1082413264   \n",
      "22133                         Same question about `env`.  1082413264   \n",
      "22134  Also, it looks like we probably don't need thi...  1082413264   \n",
      "22135  I think you should be able to do `rewriteTarge...  1082413264   \n",
      "22136  I suggest we print originals for macro expansi...  1082413264   \n",
      "22137  Try using `ctx.tree.collect` instead of manual...  1082413264   \n",
      "22138              Why have this as a separate variable?  1082413264   \n",
      "22139  This does something different. I just want to ...  1082413264   \n",
      "22140  Okay let's use this code as is for now. Later ...  1082413264   \n",
      "22141  It appears that I cannot build an Env made out...  1082413264   \n",
      "22142  I was able to replace this by just looking up ...  1082413264   \n",
      "22143                                       Fair enough.  1082413264   \n",
      "22144  @maxov This is needed to work around the extra...  1082761560   \n",
      "22145  This brings @maxov's improvements to MacroExpa...  1082761560   \n",
      "22146  @maxov It turned out that we never tested that...  1082761560   \n",
      "22147  @maxov Not sure what you meant here, so I comm...  1082761560   \n",
      "22148  @retronym Have you by any chance published Jar...  1160520582   \n",
      "\n",
      "               created_at sentiment  \n",
      "0     2012-06-04 03:49:54      None  \n",
      "1     2012-06-04 03:51:38      None  \n",
      "2     2012-06-04 03:54:41      None  \n",
      "3     2012-06-04 04:07:35      None  \n",
      "4     2012-06-04 04:09:47      None  \n",
      "5     2012-08-13 01:57:37      None  \n",
      "6     2012-07-10 12:01:05      None  \n",
      "7     2012-07-10 12:01:30      None  \n",
      "8     2012-07-10 12:01:55      None  \n",
      "9     2012-07-10 12:02:41      None  \n",
      "10    2012-09-06 21:15:08      None  \n",
      "11    2012-08-03 00:49:44      None  \n",
      "12    2012-08-03 00:50:44      None  \n",
      "13    2012-08-14 12:30:32      None  \n",
      "14    2012-08-18 07:10:00      None  \n",
      "15    2012-08-18 07:16:23      None  \n",
      "16    2012-08-18 07:17:42      None  \n",
      "17    2012-08-18 07:30:41      None  \n",
      "18    2012-08-21 22:21:18      None  \n",
      "19    2012-08-21 22:22:56      None  \n",
      "20    2012-08-21 22:56:16      None  \n",
      "21    2012-12-03 10:14:52      None  \n",
      "22    2012-12-07 05:57:47      None  \n",
      "23    2012-08-18 07:39:44      None  \n",
      "24    2012-08-18 07:42:56      None  \n",
      "25    2012-06-20 22:31:43      None  \n",
      "26    2012-06-20 22:27:10      None  \n",
      "27    2012-06-20 22:43:01      None  \n",
      "28    2012-07-23 02:35:08      None  \n",
      "29    2012-07-23 02:35:29      None  \n",
      "...                   ...       ...  \n",
      "22119 2018-07-24 08:51:43      None  \n",
      "22120 2018-07-24 08:58:17      None  \n",
      "22121 2018-07-24 09:04:39      None  \n",
      "22122 2018-07-26 13:20:52      None  \n",
      "22123 2018-07-26 13:42:09      None  \n",
      "22124 2018-07-27 03:51:43      None  \n",
      "22125 2018-07-27 03:54:01      None  \n",
      "22126 2018-07-27 03:50:32      None  \n",
      "22127 2018-07-27 03:47:10      None  \n",
      "22128 2018-07-27 03:24:56      None  \n",
      "22129 2018-07-27 03:55:10      None  \n",
      "22130 2018-07-27 03:52:35      None  \n",
      "22131 2018-07-27 02:58:23      None  \n",
      "22132 2018-07-27 03:52:23      None  \n",
      "22133 2018-07-27 03:52:41      None  \n",
      "22134 2018-07-27 03:24:30      None  \n",
      "22135 2018-07-27 02:59:03      None  \n",
      "22136 2018-07-27 02:18:52      None  \n",
      "22137 2018-07-27 02:57:44      None  \n",
      "22138 2018-07-27 03:53:22      None  \n",
      "22139 2018-07-27 04:17:46      None  \n",
      "22140 2018-07-27 04:38:31      None  \n",
      "22141 2018-07-27 04:45:41      None  \n",
      "22142 2018-07-27 05:17:34      None  \n",
      "22143 2018-07-27 07:19:57      None  \n",
      "22144 2018-07-27 10:14:12      None  \n",
      "22145 2018-07-27 10:10:26      None  \n",
      "22146 2018-07-27 10:11:28      None  \n",
      "22147 2018-07-27 10:12:41      None  \n",
      "22148 2018-10-09 08:41:34      None  \n",
      "\n",
      "[22149 rows x 8 columns]\n"
     ]
    }
   ],
   "source": [
    "print(df)"
   ]
  },
  {
   "cell_type": "code",
   "execution_count": 8,
   "metadata": {},
   "outputs": [
    {
     "name": "stdout",
     "output_type": "stream",
     "text": [
      "0        You'll need to add a check for whether the use...\n",
      "1        Since we don't need to use this event again (s...\n",
      "2        Uhm... I'm rather confused now :) do I need to...\n",
      "3        The check for `isDefaultPrevented()` allows th...\n",
      "4        Ok I'm very busy, but will take some time to d...\n",
      "5        Why aren't you using `this.options.tooltipPosi...\n",
      "6        Fix indenting here (2 spaces, not 4). Add comm...\n",
      "7        `rgba(0,0,0,.1)`—no extra spaces, no extra 0 b...\n",
      "8        Break selectors to two lines.\\n\\nAlso, add spa...\n",
      "9                 No go in IE7—need an alternate approach.\n",
      "10       What's exactly the no go ? The whole block of ...\n",
      "11                   Perhaps kill out this `console.log()`\n",
      "12                   Perhaps kill out this `console.log()`\n",
      "13       ```js\\nthis.options.cache || this.$element.fin...\n",
      "14       The `!!` is unnecessary here because `this.opt...\n",
      "15       You've mixed single and double quotes all the ...\n",
      "16       Why not use the existing `.active` utility cla...\n",
      "17       You can shorten this to `pills += '<span/>'` a...\n",
      "18       Sure. The code was written before the famous s...\n",
      "19               I'll look into it. See how it works out. \n",
      "20       This isn't a good idea. When using the active ...\n",
      "21       I would add a class for the individual pills (...\n",
      "22       In my opinion, it's a hassle to match tags man...\n",
      "23       You could rewrite this as `this.$element.paren...\n",
      "24                                        good idea, fixed\n",
      "25       dont' want to do this - we would want to conti...\n",
      "26       could you change this to `this.$element.off()....\n",
      "27                                             sure, done.\n",
      "28                 can you remove the spaces here? thanks!\n",
      "29                                    this isn't necessary\n",
      "                               ...                        \n",
      "22119    `λ` is a somewhat idiomatic to call this helpe...\n",
      "22120    I'm not completely sure about what exactly nee...\n",
      "22121    Extension methods like this one (e.g. `sym.own...\n",
      "22122    (complete side-note: this is also available as...\n",
      "22123    Very nice!! I'm going to use this right away. ...\n",
      "22124              I believe you'll need `str(\"()\")` here.\n",
      "22125    It looks like `pprintSym` would be a better name.\n",
      "22126    On a second thought, there seems to be a simpl...\n",
      "22127    Looks like this is what you need: https://gith...\n",
      "22128    Looks like we don't need this logic at all. Se...\n",
      "22129    How about `typePrinter.pprint(s.TypeRef(s.NoTy...\n",
      "22130             Why does this method need to take `env`?\n",
      "22131                                     `positionToTree`\n",
      "22132              See related comment to the output test.\n",
      "22133                           Same question about `env`.\n",
      "22134    Also, it looks like we probably don't need thi...\n",
      "22135    I think you should be able to do `rewriteTarge...\n",
      "22136    I suggest we print originals for macro expansi...\n",
      "22137    Try using `ctx.tree.collect` instead of manual...\n",
      "22138                Why have this as a separate variable?\n",
      "22139    This does something different. I just want to ...\n",
      "22140    Okay let's use this code as is for now. Later ...\n",
      "22141    It appears that I cannot build an Env made out...\n",
      "22142    I was able to replace this by just looking up ...\n",
      "22143                                         Fair enough.\n",
      "22144    @maxov This is needed to work around the extra...\n",
      "22145    This brings @maxov's improvements to MacroExpa...\n",
      "22146    @maxov It turned out that we never tested that...\n",
      "22147    @maxov Not sure what you meant here, so I comm...\n",
      "22148    @retronym Have you by any chance published Jar...\n",
      "Name: body, Length: 22149, dtype: object\n"
     ]
    }
   ],
   "source": [
    "df_body = df['body']\n",
    "print(df_body)"
   ]
  },
  {
   "cell_type": "code",
   "execution_count": 9,
   "metadata": {},
   "outputs": [
    {
     "ename": "ProgrammingError",
     "evalue": "1060 (42S21): Duplicate column name 'sentiment'",
     "output_type": "error",
     "traceback": [
      "\u001b[1;31m---------------------------------------------------------------------------\u001b[0m",
      "\u001b[1;31mProgrammingError\u001b[0m                          Traceback (most recent call last)",
      "\u001b[1;32m<ipython-input-9-aa3be9032da5>\u001b[0m in \u001b[0;36m<module>\u001b[1;34m\u001b[0m\n\u001b[0;32m      1\u001b[0m query = \"\"\"ALTER TABLE pull_request_comments\n\u001b[0;32m      2\u001b[0m ADD COLUMN sentiment TINYTEXT AFTER created_at;\"\"\"\n\u001b[1;32m----> 3\u001b[1;33m \u001b[0mcursor\u001b[0m\u001b[1;33m.\u001b[0m\u001b[0mexecute\u001b[0m\u001b[1;33m(\u001b[0m\u001b[0mquery\u001b[0m\u001b[1;33m)\u001b[0m\u001b[1;33m\u001b[0m\u001b[1;33m\u001b[0m\u001b[0m\n\u001b[0m",
      "\u001b[1;32mc:\\users\\cathl\\appdata\\local\\programs\\python\\python37-32\\lib\\site-packages\\mysql\\connector\\cursor.py\u001b[0m in \u001b[0;36mexecute\u001b[1;34m(self, operation, params, multi)\u001b[0m\n\u001b[0;32m    567\u001b[0m \u001b[1;33m\u001b[0m\u001b[0m\n\u001b[0;32m    568\u001b[0m         \u001b[1;32mtry\u001b[0m\u001b[1;33m:\u001b[0m\u001b[1;33m\u001b[0m\u001b[1;33m\u001b[0m\u001b[0m\n\u001b[1;32m--> 569\u001b[1;33m             \u001b[0mself\u001b[0m\u001b[1;33m.\u001b[0m\u001b[0m_handle_result\u001b[0m\u001b[1;33m(\u001b[0m\u001b[0mself\u001b[0m\u001b[1;33m.\u001b[0m\u001b[0m_connection\u001b[0m\u001b[1;33m.\u001b[0m\u001b[0mcmd_query\u001b[0m\u001b[1;33m(\u001b[0m\u001b[0mstmt\u001b[0m\u001b[1;33m)\u001b[0m\u001b[1;33m)\u001b[0m\u001b[1;33m\u001b[0m\u001b[1;33m\u001b[0m\u001b[0m\n\u001b[0m\u001b[0;32m    570\u001b[0m         \u001b[1;32mexcept\u001b[0m \u001b[0merrors\u001b[0m\u001b[1;33m.\u001b[0m\u001b[0mInterfaceError\u001b[0m\u001b[1;33m:\u001b[0m\u001b[1;33m\u001b[0m\u001b[1;33m\u001b[0m\u001b[0m\n\u001b[0;32m    571\u001b[0m             \u001b[1;32mif\u001b[0m \u001b[0mself\u001b[0m\u001b[1;33m.\u001b[0m\u001b[0m_connection\u001b[0m\u001b[1;33m.\u001b[0m\u001b[0m_have_next_result\u001b[0m\u001b[1;33m:\u001b[0m  \u001b[1;31m# pylint: disable=W0212\u001b[0m\u001b[1;33m\u001b[0m\u001b[1;33m\u001b[0m\u001b[0m\n",
      "\u001b[1;32mc:\\users\\cathl\\appdata\\local\\programs\\python\\python37-32\\lib\\site-packages\\mysql\\connector\\connection.py\u001b[0m in \u001b[0;36mcmd_query\u001b[1;34m(self, query, raw, buffered, raw_as_string)\u001b[0m\n\u001b[0;32m    551\u001b[0m         \u001b[1;32mif\u001b[0m \u001b[1;32mnot\u001b[0m \u001b[0misinstance\u001b[0m\u001b[1;33m(\u001b[0m\u001b[0mquery\u001b[0m\u001b[1;33m,\u001b[0m \u001b[0mbytes\u001b[0m\u001b[1;33m)\u001b[0m\u001b[1;33m:\u001b[0m\u001b[1;33m\u001b[0m\u001b[1;33m\u001b[0m\u001b[0m\n\u001b[0;32m    552\u001b[0m             \u001b[0mquery\u001b[0m \u001b[1;33m=\u001b[0m \u001b[0mquery\u001b[0m\u001b[1;33m.\u001b[0m\u001b[0mencode\u001b[0m\u001b[1;33m(\u001b[0m\u001b[1;34m'utf-8'\u001b[0m\u001b[1;33m)\u001b[0m\u001b[1;33m\u001b[0m\u001b[1;33m\u001b[0m\u001b[0m\n\u001b[1;32m--> 553\u001b[1;33m         \u001b[0mresult\u001b[0m \u001b[1;33m=\u001b[0m \u001b[0mself\u001b[0m\u001b[1;33m.\u001b[0m\u001b[0m_handle_result\u001b[0m\u001b[1;33m(\u001b[0m\u001b[0mself\u001b[0m\u001b[1;33m.\u001b[0m\u001b[0m_send_cmd\u001b[0m\u001b[1;33m(\u001b[0m\u001b[0mServerCmd\u001b[0m\u001b[1;33m.\u001b[0m\u001b[0mQUERY\u001b[0m\u001b[1;33m,\u001b[0m \u001b[0mquery\u001b[0m\u001b[1;33m)\u001b[0m\u001b[1;33m)\u001b[0m\u001b[1;33m\u001b[0m\u001b[1;33m\u001b[0m\u001b[0m\n\u001b[0m\u001b[0;32m    554\u001b[0m \u001b[1;33m\u001b[0m\u001b[0m\n\u001b[0;32m    555\u001b[0m         \u001b[1;32mif\u001b[0m \u001b[0mself\u001b[0m\u001b[1;33m.\u001b[0m\u001b[0m_have_next_result\u001b[0m\u001b[1;33m:\u001b[0m\u001b[1;33m\u001b[0m\u001b[1;33m\u001b[0m\u001b[0m\n",
      "\u001b[1;32mc:\\users\\cathl\\appdata\\local\\programs\\python\\python37-32\\lib\\site-packages\\mysql\\connector\\connection.py\u001b[0m in \u001b[0;36m_handle_result\u001b[1;34m(self, packet)\u001b[0m\n\u001b[0;32m    440\u001b[0m             \u001b[1;32mreturn\u001b[0m \u001b[0mself\u001b[0m\u001b[1;33m.\u001b[0m\u001b[0m_handle_eof\u001b[0m\u001b[1;33m(\u001b[0m\u001b[0mpacket\u001b[0m\u001b[1;33m)\u001b[0m\u001b[1;33m\u001b[0m\u001b[1;33m\u001b[0m\u001b[0m\n\u001b[0;32m    441\u001b[0m         \u001b[1;32melif\u001b[0m \u001b[0mpacket\u001b[0m\u001b[1;33m[\u001b[0m\u001b[1;36m4\u001b[0m\u001b[1;33m]\u001b[0m \u001b[1;33m==\u001b[0m \u001b[1;36m255\u001b[0m\u001b[1;33m:\u001b[0m\u001b[1;33m\u001b[0m\u001b[1;33m\u001b[0m\u001b[0m\n\u001b[1;32m--> 442\u001b[1;33m             \u001b[1;32mraise\u001b[0m \u001b[0merrors\u001b[0m\u001b[1;33m.\u001b[0m\u001b[0mget_exception\u001b[0m\u001b[1;33m(\u001b[0m\u001b[0mpacket\u001b[0m\u001b[1;33m)\u001b[0m\u001b[1;33m\u001b[0m\u001b[1;33m\u001b[0m\u001b[0m\n\u001b[0m\u001b[0;32m    443\u001b[0m \u001b[1;33m\u001b[0m\u001b[0m\n\u001b[0;32m    444\u001b[0m         \u001b[1;31m# We have a text result set\u001b[0m\u001b[1;33m\u001b[0m\u001b[1;33m\u001b[0m\u001b[1;33m\u001b[0m\u001b[0m\n",
      "\u001b[1;31mProgrammingError\u001b[0m: 1060 (42S21): Duplicate column name 'sentiment'"
     ]
    }
   ],
   "source": [
    "query = \"\"\"ALTER TABLE pull_request_comments\n",
    "ADD COLUMN sentiment TINYTEXT AFTER created_at;\"\"\"\n",
    "cursor.execute(query)"
   ]
  },
  {
   "cell_type": "code",
   "execution_count": 11,
   "metadata": {},
   "outputs": [
    {
     "ename": "OperationalError",
     "evalue": "2055: Lost connection to MySQL server at '54.234.112.171:33306', system error: 10054 An existing connection was forcibly closed by the remote host",
     "output_type": "error",
     "traceback": [
      "\u001b[1;31m---------------------------------------------------------------------------\u001b[0m",
      "\u001b[1;31mConnectionResetError\u001b[0m                      Traceback (most recent call last)",
      "\u001b[1;32mc:\\users\\cathl\\appdata\\local\\programs\\python\\python37-32\\lib\\site-packages\\mysql\\connector\\network.py\u001b[0m in \u001b[0;36msend_plain\u001b[1;34m(self, buf, packet_number, compressed_packet_number)\u001b[0m\n\u001b[0;32m    147\u001b[0m                 \u001b[1;32melse\u001b[0m\u001b[1;33m:\u001b[0m\u001b[1;33m\u001b[0m\u001b[1;33m\u001b[0m\u001b[0m\n\u001b[1;32m--> 148\u001b[1;33m                     \u001b[0mself\u001b[0m\u001b[1;33m.\u001b[0m\u001b[0msock\u001b[0m\u001b[1;33m.\u001b[0m\u001b[0msendall\u001b[0m\u001b[1;33m(\u001b[0m\u001b[0mpacket\u001b[0m\u001b[1;33m)\u001b[0m\u001b[1;33m\u001b[0m\u001b[1;33m\u001b[0m\u001b[0m\n\u001b[0m\u001b[0;32m    149\u001b[0m             \u001b[1;32mexcept\u001b[0m \u001b[0mIOError\u001b[0m \u001b[1;32mas\u001b[0m \u001b[0merr\u001b[0m\u001b[1;33m:\u001b[0m\u001b[1;33m\u001b[0m\u001b[1;33m\u001b[0m\u001b[0m\n",
      "\u001b[1;31mConnectionResetError\u001b[0m: [WinError 10054] An existing connection was forcibly closed by the remote host",
      "\nDuring handling of the above exception, another exception occurred:\n",
      "\u001b[1;31mOperationalError\u001b[0m                          Traceback (most recent call last)",
      "\u001b[1;32m<ipython-input-11-33ad29579503>\u001b[0m in \u001b[0;36m<module>\u001b[1;34m\u001b[0m\n\u001b[1;32m----> 1\u001b[1;33m \u001b[0mcnx\u001b[0m\u001b[1;33m.\u001b[0m\u001b[0mcommit\u001b[0m\u001b[1;33m(\u001b[0m\u001b[1;33m)\u001b[0m\u001b[1;33m\u001b[0m\u001b[1;33m\u001b[0m\u001b[0m\n\u001b[0m",
      "\u001b[1;32mc:\\users\\cathl\\appdata\\local\\programs\\python\\python37-32\\lib\\site-packages\\mysql\\connector\\connection.py\u001b[0m in \u001b[0;36mcommit\u001b[1;34m(self)\u001b[0m\n\u001b[0;32m    912\u001b[0m     \u001b[1;32mdef\u001b[0m \u001b[0mcommit\u001b[0m\u001b[1;33m(\u001b[0m\u001b[0mself\u001b[0m\u001b[1;33m)\u001b[0m\u001b[1;33m:\u001b[0m\u001b[1;33m\u001b[0m\u001b[1;33m\u001b[0m\u001b[0m\n\u001b[0;32m    913\u001b[0m         \u001b[1;34m\"\"\"Commit current transaction\"\"\"\u001b[0m\u001b[1;33m\u001b[0m\u001b[1;33m\u001b[0m\u001b[0m\n\u001b[1;32m--> 914\u001b[1;33m         \u001b[0mself\u001b[0m\u001b[1;33m.\u001b[0m\u001b[0m_execute_query\u001b[0m\u001b[1;33m(\u001b[0m\u001b[1;34m\"COMMIT\"\u001b[0m\u001b[1;33m)\u001b[0m\u001b[1;33m\u001b[0m\u001b[1;33m\u001b[0m\u001b[0m\n\u001b[0m\u001b[0;32m    915\u001b[0m \u001b[1;33m\u001b[0m\u001b[0m\n\u001b[0;32m    916\u001b[0m     \u001b[1;32mdef\u001b[0m \u001b[0mrollback\u001b[0m\u001b[1;33m(\u001b[0m\u001b[0mself\u001b[0m\u001b[1;33m)\u001b[0m\u001b[1;33m:\u001b[0m\u001b[1;33m\u001b[0m\u001b[1;33m\u001b[0m\u001b[0m\n",
      "\u001b[1;32mc:\\users\\cathl\\appdata\\local\\programs\\python\\python37-32\\lib\\site-packages\\mysql\\connector\\connection.py\u001b[0m in \u001b[0;36m_execute_query\u001b[1;34m(self, query)\u001b[0m\n\u001b[0;32m    931\u001b[0m         \"\"\"\n\u001b[0;32m    932\u001b[0m         \u001b[0mself\u001b[0m\u001b[1;33m.\u001b[0m\u001b[0mhandle_unread_result\u001b[0m\u001b[1;33m(\u001b[0m\u001b[1;33m)\u001b[0m\u001b[1;33m\u001b[0m\u001b[1;33m\u001b[0m\u001b[0m\n\u001b[1;32m--> 933\u001b[1;33m         \u001b[0mself\u001b[0m\u001b[1;33m.\u001b[0m\u001b[0mcmd_query\u001b[0m\u001b[1;33m(\u001b[0m\u001b[0mquery\u001b[0m\u001b[1;33m)\u001b[0m\u001b[1;33m\u001b[0m\u001b[1;33m\u001b[0m\u001b[0m\n\u001b[0m\u001b[0;32m    934\u001b[0m \u001b[1;33m\u001b[0m\u001b[0m\n\u001b[0;32m    935\u001b[0m     \u001b[1;32mdef\u001b[0m \u001b[0minfo_query\u001b[0m\u001b[1;33m(\u001b[0m\u001b[0mself\u001b[0m\u001b[1;33m,\u001b[0m \u001b[0mquery\u001b[0m\u001b[1;33m)\u001b[0m\u001b[1;33m:\u001b[0m\u001b[1;33m\u001b[0m\u001b[1;33m\u001b[0m\u001b[0m\n",
      "\u001b[1;32mc:\\users\\cathl\\appdata\\local\\programs\\python\\python37-32\\lib\\site-packages\\mysql\\connector\\connection.py\u001b[0m in \u001b[0;36mcmd_query\u001b[1;34m(self, query, raw, buffered, raw_as_string)\u001b[0m\n\u001b[0;32m    551\u001b[0m         \u001b[1;32mif\u001b[0m \u001b[1;32mnot\u001b[0m \u001b[0misinstance\u001b[0m\u001b[1;33m(\u001b[0m\u001b[0mquery\u001b[0m\u001b[1;33m,\u001b[0m \u001b[0mbytes\u001b[0m\u001b[1;33m)\u001b[0m\u001b[1;33m:\u001b[0m\u001b[1;33m\u001b[0m\u001b[1;33m\u001b[0m\u001b[0m\n\u001b[0;32m    552\u001b[0m             \u001b[0mquery\u001b[0m \u001b[1;33m=\u001b[0m \u001b[0mquery\u001b[0m\u001b[1;33m.\u001b[0m\u001b[0mencode\u001b[0m\u001b[1;33m(\u001b[0m\u001b[1;34m'utf-8'\u001b[0m\u001b[1;33m)\u001b[0m\u001b[1;33m\u001b[0m\u001b[1;33m\u001b[0m\u001b[0m\n\u001b[1;32m--> 553\u001b[1;33m         \u001b[0mresult\u001b[0m \u001b[1;33m=\u001b[0m \u001b[0mself\u001b[0m\u001b[1;33m.\u001b[0m\u001b[0m_handle_result\u001b[0m\u001b[1;33m(\u001b[0m\u001b[0mself\u001b[0m\u001b[1;33m.\u001b[0m\u001b[0m_send_cmd\u001b[0m\u001b[1;33m(\u001b[0m\u001b[0mServerCmd\u001b[0m\u001b[1;33m.\u001b[0m\u001b[0mQUERY\u001b[0m\u001b[1;33m,\u001b[0m \u001b[0mquery\u001b[0m\u001b[1;33m)\u001b[0m\u001b[1;33m)\u001b[0m\u001b[1;33m\u001b[0m\u001b[1;33m\u001b[0m\u001b[0m\n\u001b[0m\u001b[0;32m    554\u001b[0m \u001b[1;33m\u001b[0m\u001b[0m\n\u001b[0;32m    555\u001b[0m         \u001b[1;32mif\u001b[0m \u001b[0mself\u001b[0m\u001b[1;33m.\u001b[0m\u001b[0m_have_next_result\u001b[0m\u001b[1;33m:\u001b[0m\u001b[1;33m\u001b[0m\u001b[1;33m\u001b[0m\u001b[0m\n",
      "\u001b[1;32mc:\\users\\cathl\\appdata\\local\\programs\\python\\python37-32\\lib\\site-packages\\mysql\\connector\\connection.py\u001b[0m in \u001b[0;36m_send_cmd\u001b[1;34m(self, command, argument, packet_number, packet, expect_response, compressed_packet_number)\u001b[0m\n\u001b[0;32m    306\u001b[0m             self._socket.send(\n\u001b[0;32m    307\u001b[0m                 \u001b[0mself\u001b[0m\u001b[1;33m.\u001b[0m\u001b[0m_protocol\u001b[0m\u001b[1;33m.\u001b[0m\u001b[0mmake_command\u001b[0m\u001b[1;33m(\u001b[0m\u001b[0mcommand\u001b[0m\u001b[1;33m,\u001b[0m \u001b[0mpacket\u001b[0m \u001b[1;32mor\u001b[0m \u001b[0margument\u001b[0m\u001b[1;33m)\u001b[0m\u001b[1;33m,\u001b[0m\u001b[1;33m\u001b[0m\u001b[1;33m\u001b[0m\u001b[0m\n\u001b[1;32m--> 308\u001b[1;33m                 packet_number, compressed_packet_number)\n\u001b[0m\u001b[0;32m    309\u001b[0m         \u001b[1;32mexcept\u001b[0m \u001b[0mAttributeError\u001b[0m\u001b[1;33m:\u001b[0m\u001b[1;33m\u001b[0m\u001b[1;33m\u001b[0m\u001b[0m\n\u001b[0;32m    310\u001b[0m             \u001b[1;32mraise\u001b[0m \u001b[0merrors\u001b[0m\u001b[1;33m.\u001b[0m\u001b[0mOperationalError\u001b[0m\u001b[1;33m(\u001b[0m\u001b[1;34m\"MySQL Connection not available.\"\u001b[0m\u001b[1;33m)\u001b[0m\u001b[1;33m\u001b[0m\u001b[1;33m\u001b[0m\u001b[0m\n",
      "\u001b[1;32mc:\\users\\cathl\\appdata\\local\\programs\\python\\python37-32\\lib\\site-packages\\mysql\\connector\\network.py\u001b[0m in \u001b[0;36msend_plain\u001b[1;34m(self, buf, packet_number, compressed_packet_number)\u001b[0m\n\u001b[0;32m    149\u001b[0m             \u001b[1;32mexcept\u001b[0m \u001b[0mIOError\u001b[0m \u001b[1;32mas\u001b[0m \u001b[0merr\u001b[0m\u001b[1;33m:\u001b[0m\u001b[1;33m\u001b[0m\u001b[1;33m\u001b[0m\u001b[0m\n\u001b[0;32m    150\u001b[0m                 raise errors.OperationalError(\n\u001b[1;32m--> 151\u001b[1;33m                     errno=2055, values=(self.get_address(), _strioerror(err)))\n\u001b[0m\u001b[0;32m    152\u001b[0m             \u001b[1;32mexcept\u001b[0m \u001b[0mAttributeError\u001b[0m\u001b[1;33m:\u001b[0m\u001b[1;33m\u001b[0m\u001b[1;33m\u001b[0m\u001b[0m\n\u001b[0;32m    153\u001b[0m                 \u001b[1;32mraise\u001b[0m \u001b[0merrors\u001b[0m\u001b[1;33m.\u001b[0m\u001b[0mOperationalError\u001b[0m\u001b[1;33m(\u001b[0m\u001b[0merrno\u001b[0m\u001b[1;33m=\u001b[0m\u001b[1;36m2006\u001b[0m\u001b[1;33m)\u001b[0m\u001b[1;33m\u001b[0m\u001b[1;33m\u001b[0m\u001b[0m\n",
      "\u001b[1;31mOperationalError\u001b[0m: 2055: Lost connection to MySQL server at '54.234.112.171:33306', system error: 10054 An existing connection was forcibly closed by the remote host"
     ]
    }
   ],
   "source": [
    "cnx.commit()\n"
   ]
  },
  {
   "cell_type": "code",
   "execution_count": 4,
   "metadata": {},
   "outputs": [],
   "source": [
    "import mysql.connector as mc\n",
    "cnx = mc.connect(user=\"ghtorrent_user\", password = \"ossd1-ght0rrent\", host = \"54.234.112.171\", database = \"ghtorrent\", port = 33306)\n",
    "cnx.commit()\n"
   ]
  },
  {
   "cell_type": "code",
   "execution_count": 6,
   "metadata": {},
   "outputs": [],
   "source": [
    "import csv\n",
    "import mysql.connector as mc\n",
    "\n",
    "cnx = mc.connect(user=\"ghtorrent_user\", password = \"ossd1-ght0rrent\", host = \"54.234.112.171\", database = \"ghtorrent\", port = 33306)\n",
    "cursor = cnx.cursor(buffered=True)\n",
    "\n",
    "query = \"SELECT user_id, body, created_at, sentiment, hostility, category FROM pull_request_comments WHERE YEAR(created_at) =2018\"\n",
    "cursor.execute(query)\n",
    "\n",
    "\n",
    "rows = cursor.fetchall()\n",
    "with open(r'C:\\Users\\cathl\\OneDrive\\Documents\\GitHub\\BU-Grow-Starter-Project\\test.csv', 'w', encoding='utf-8') as fp:\n",
    "    myFile = csv.writer(fp)\n",
    "    myFile.writerows(rows)\n"
   ]
  },
  {
   "cell_type": "code",
   "execution_count": null,
   "metadata": {},
   "outputs": [],
   "source": []
  }
 ],
 "metadata": {
  "kernelspec": {
   "display_name": "Python 3",
   "language": "python",
   "name": "python3"
  },
  "language_info": {
   "codemirror_mode": {
    "name": "ipython",
    "version": 3
   },
   "file_extension": ".py",
   "mimetype": "text/x-python",
   "name": "python",
   "nbconvert_exporter": "python",
   "pygments_lexer": "ipython3",
   "version": "3.7.3"
  }
 },
 "nbformat": 4,
 "nbformat_minor": 2
}
